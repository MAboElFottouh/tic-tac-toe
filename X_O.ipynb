{
  "nbformat": 4,
  "nbformat_minor": 0,
  "metadata": {
    "colab": {
      "name": "X-O.ipynb",
      "provenance": [],
      "authorship_tag": "ABX9TyMuF4GnIOQA4ndc+/GXiCqZ",
      "include_colab_link": true
    },
    "kernelspec": {
      "name": "python3",
      "display_name": "Python 3"
    },
    "language_info": {
      "name": "python"
    }
  },
  "cells": [
    {
      "cell_type": "markdown",
      "metadata": {
        "id": "view-in-github",
        "colab_type": "text"
      },
      "source": [
        "<a href=\"https://colab.research.google.com/github/MAboElFottouh/tic-tac-toe/blob/main/X_O.ipynb\" target=\"_parent\"><img src=\"https://colab.research.google.com/assets/colab-badge.svg\" alt=\"Open In Colab\"/></a>"
      ]
    },
    {
      "cell_type": "code",
      "execution_count": 41,
      "metadata": {
        "colab": {
          "base_uri": "https://localhost:8080/"
        },
        "id": "nx7sQBR4411D",
        "outputId": "c4758ce5-3561-4bfb-ad4a-74d621c8a226"
      },
      "outputs": [
        {
          "output_type": "stream",
          "name": "stdout",
          "text": [
            "   |   |   \n",
            " _ | _ | _ \n",
            "   |   |   \n",
            " _ | _ | _ \n",
            "   |   |   \n",
            "   |   |   \n"
          ]
        }
      ],
      "source": [
        "# careut board \n",
        "board = [' ',' ',' ',' ',' ',' ',' ',' ',' ',' ']    \n",
        "def DrawBoard():    \n",
        "    print(\" %c | %c | %c \" % (board[1],board[2],board[3]))    \n",
        "    print(\" _ | _ | _ \")    \n",
        "    print(\" %c | %c | %c \" % (board[4],board[5],board[6]))    \n",
        "    print(\" _ | _ | _ \")    \n",
        "    print(\" %c | %c | %c \" % (board[7],board[8],board[9]))    \n",
        "    print(\"   |   |   \")    \n",
        "DrawBoard()"
      ]
    },
    {
      "cell_type": "code",
      "source": [
        "#set x-o in bord\n",
        "print(\" 1 | 2 | 3 \" )    \n",
        "print(\" _ | _ | _ \")    \n",
        "print(\" 4 | 5 | 6 \" )    \n",
        "print(\" _ | _ | _ \")    \n",
        "print(\" 7 | 8 | 9 \")    \n",
        "print(\"   |   |   \")   \n",
        "print('set x and o')\n",
        "x = int(input('enter possation of x '))\n",
        "o = int(input('enter possation of o '))\n",
        "board[x]='x'\n",
        "board[o]='o'"
      ],
      "metadata": {
        "colab": {
          "base_uri": "https://localhost:8080/"
        },
        "id": "CbhAch-84-J_",
        "outputId": "3d038142-43f7-42c7-b385-8921e838effe"
      },
      "execution_count": 42,
      "outputs": [
        {
          "name": "stdout",
          "output_type": "stream",
          "text": [
            " 1 | 2 | 3 \n",
            " _ | _ | _ \n",
            " 4 | 5 | 6 \n",
            " _ | _ | _ \n",
            " 7 | 8 | 9 \n",
            "   |   |   \n",
            "set x and o\n",
            "enter possation of x 1\n",
            "enter possation of o 5\n"
          ]
        }
      ]
    },
    {
      "cell_type": "code",
      "source": [
        "DrawBoard()"
      ],
      "metadata": {
        "colab": {
          "base_uri": "https://localhost:8080/"
        },
        "id": "0rgpTsXP5hy_",
        "outputId": "1b00def6-47fe-4ab5-ab8d-77e0d9fd5b56"
      },
      "execution_count": 43,
      "outputs": [
        {
          "output_type": "stream",
          "name": "stdout",
          "text": [
            " x |   |   \n",
            " _ | _ | _ \n",
            "   | o |   \n",
            " _ | _ | _ \n",
            "   |   |   \n",
            "   |   |   \n"
          ]
        }
      ]
    },
    {
      "cell_type": "code",
      "source": [
        "Xtotal =8\n",
        "Ototal =8\n",
        "# calculate the heuristic value win X\n",
        "if (o%2 == 0):\n",
        "  Xtotal = Xtotal - 2\n",
        "elif (o == 5 ):\n",
        "  Xtotal = Xtotal - 4 \n",
        "else :\n",
        "  Xtotal = Xtotal -3 "
      ],
      "metadata": {
        "id": "dhgaVC2r5jZA"
      },
      "execution_count": 44,
      "outputs": []
    },
    {
      "cell_type": "code",
      "source": [
        "# calculate the heuristic value win O\n",
        "if (x%2 == 0):\n",
        "  Ototal = Ototal - 2\n",
        "elif (x == 5 ):\n",
        "  Ototal = Ototal - 4 \n",
        "else :\n",
        "  Ototal = Ototal -3 "
      ],
      "metadata": {
        "id": "o3Tz5hRj5xBP"
      },
      "execution_count": 45,
      "outputs": []
    },
    {
      "cell_type": "code",
      "source": [
        "#calculate heuristic\n",
        "heuristic = Xtotal - Ototal"
      ],
      "metadata": {
        "id": "X8RKP13l51Vq"
      },
      "execution_count": 46,
      "outputs": []
    },
    {
      "cell_type": "code",
      "source": [
        "print('Xtotal - Ototal = {}'.format(heuristic))"
      ],
      "metadata": {
        "colab": {
          "base_uri": "https://localhost:8080/"
        },
        "id": "VwMfDNIf9fft",
        "outputId": "eaf02222-8fbe-407f-e569-1d28dec74c57"
      },
      "execution_count": 47,
      "outputs": [
        {
          "output_type": "stream",
          "name": "stdout",
          "text": [
            "Xtotal - Ototal = -1\n"
          ]
        }
      ]
    },
    {
      "cell_type": "code",
      "source": [
        "if(heuristic > 0 ):\n",
        "  print(\"X win\")\n",
        "elif(heuristic==0):\n",
        "  print('no Win')\n",
        "else:\n",
        "  print('O win')"
      ],
      "metadata": {
        "colab": {
          "base_uri": "https://localhost:8080/"
        },
        "id": "r9KXG6cQ9i_-",
        "outputId": "eb67afab-c2ce-4a7b-8424-1f6ad2c804bb"
      },
      "execution_count": 52,
      "outputs": [
        {
          "output_type": "stream",
          "name": "stdout",
          "text": [
            "O win\n"
          ]
        }
      ]
    },
    {
      "cell_type": "code",
      "source": [
        ""
      ],
      "metadata": {
        "id": "PQmBBuxS_Lf8"
      },
      "execution_count": 48,
      "outputs": []
    }
  ]
}